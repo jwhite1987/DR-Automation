{
 "cells": [
  {
   "cell_type": "code",
   "execution_count": 1,
   "id": "3517d483-9339-4a7e-982a-e8bbda5919ae",
   "metadata": {},
   "outputs": [],
   "source": [
    "import pandas as pd\n",
    "import numpy as np\n",
    "from functools import reduce\n",
    "import re"
   ]
  },
  {
   "cell_type": "code",
   "execution_count": 2,
   "id": "7983708d-ee7b-4233-b4f7-1d83b96d15e0",
   "metadata": {},
   "outputs": [],
   "source": [
    "armor = pd.read_csv('armor.csv')\n",
    "shields = pd.read_csv('shields.csv')\n",
    "weapons = pd.read_csv('weapons.csv')"
   ]
  },
  {
   "cell_type": "code",
   "execution_count": 3,
   "id": "20fd1255-d5f5-4390-8b71-957240f67a42",
   "metadata": {},
   "outputs": [],
   "source": [
    "armor = armor.drop(columns=['Unnamed: 0'])\n",
    "shields = shields.drop(columns=['Unnamed: 0'])\n",
    "weapons = weapons.drop(columns=['Unnamed: 0'])"
   ]
  },
  {
   "cell_type": "code",
   "execution_count": 4,
   "id": "f5d6775a-af04-4bbd-b338-bae960dc2628",
   "metadata": {},
   "outputs": [],
   "source": [
    "armor = armor.rename(columns={'0':'Entries'})\n",
    "armor['Entries'] = armor['Entries'].str.replace(\"Armor:\",\"\")\n",
    "armor = armor.values.tolist()\n",
    "armor = reduce(lambda x, y: x + y, armor, [])\n",
    "armor = ' '.join(armor)"
   ]
  },
  {
   "cell_type": "code",
   "execution_count": 5,
   "id": "54411073",
   "metadata": {},
   "outputs": [],
   "source": [
    "def string_k(k, str):\n",
    "     \n",
    "    # create the empty string\n",
    "    string = []\n",
    "     \n",
    "    # split the string where space is comes\n",
    "    text = str.split(\" \")\n",
    "     \n",
    "    # iterate the loop till every substring\n",
    "    for x in text:\n",
    "         \n",
    "        # if length of current sub string\n",
    "        # is greater than k then\n",
    "        if len(x) == k:\n",
    "             \n",
    "            # append this sub string in\n",
    "            # string list\n",
    "            string.append(x)\n",
    "             \n",
    "     # return string list\n",
    "    return string\n",
    " \n",
    " \n",
    "# Driver Program    \n",
    "k = 5\n",
    "armor = (string_k(k, armor))"
   ]
  },
  {
   "cell_type": "code",
   "execution_count": 6,
   "id": "37929924",
   "metadata": {},
   "outputs": [],
   "source": [
    "armor = [blank.title() for blank in armor]\n",
    "armor = set(armor)\n",
    "new_armor = pd.DataFrame(armor)\n",
    "new_armor.columns = ['5 Letter Words']\n",
    "new_armor_list = new_armor\n",
    "new_armor_list = new_armor_list.sort_values(['5 Letter Words'])\n",
    "new_armor_list = new_armor_list.reset_index(drop=True)\n",
    "new_armor_list.to_csv('new.csv', index=False)"
   ]
  },
  {
   "cell_type": "code",
   "execution_count": 7,
   "id": "f37a772f",
   "metadata": {},
   "outputs": [],
   "source": [
    "weapons = weapons.rename(columns={'0':'Entries'})\n",
    "weapons['Entries'] = weapons['Entries'].str.replace(\"Weapon:\",\"\")\n",
    "weapons = weapons.values.tolist()\n",
    "weapons = reduce(lambda x, y: x + y, weapons, [])\n",
    "weapons = ' '.join(weapons)"
   ]
  },
  {
   "cell_type": "code",
   "execution_count": 8,
   "id": "683cc76d",
   "metadata": {},
   "outputs": [],
   "source": [
    "def string_k(k, str):\n",
    "     \n",
    "    # create the empty string\n",
    "    string = []\n",
    "     \n",
    "    # split the string where space is comes\n",
    "    text = str.split(\" \")\n",
    "     \n",
    "    # iterate the loop till every substring\n",
    "    for x in text:\n",
    "         \n",
    "        # if length of current sub string\n",
    "        # is greater than k then\n",
    "        if len(x) == k:\n",
    "             \n",
    "            # append this sub string in\n",
    "            # string list\n",
    "            string.append(x)\n",
    "             \n",
    "     # return string list\n",
    "    return string\n",
    " \n",
    " \n",
    "# Driver Program    \n",
    "k = 5\n",
    "armor = (string_k(k, weapons))"
   ]
  },
  {
   "cell_type": "code",
   "execution_count": 9,
   "id": "07ca6062",
   "metadata": {},
   "outputs": [],
   "source": [
    "weapons = [blank.title() for blank in weapons]\n",
    "weapons = set(weapons)\n",
    "new_weapons = pd.DataFrame(weapons)\n",
    "new_weapons.columns = ['5 Letter Words']\n",
    "new_weapons_list = new_weapons\n",
    "new_weapons_list = new_weapons_list.sort_values(['5 Letter Words'])\n",
    "new_weapons_list = new_weapons_list.reset_index(drop=True)\n",
    "new_weapons_list.to_csv('new_weapons_list.csv', index=False)"
   ]
  },
  {
   "cell_type": "code",
   "execution_count": 10,
   "id": "d24bfd80",
   "metadata": {},
   "outputs": [],
   "source": [
    "shields = shields.rename(columns={'0':'Entries'})\n",
    "shields['Entries'] = shields['Entries'].str.replace(\"Shield:\",\"\")\n",
    "shields = shields.values.tolist()\n",
    "shields = reduce(lambda x, y: x + y, shields, [])\n",
    "shields = ' '.join(shields)"
   ]
  },
  {
   "cell_type": "code",
   "execution_count": 11,
   "id": "2bc1aa17",
   "metadata": {},
   "outputs": [],
   "source": [
    "def string_k(k, str):\n",
    "     \n",
    "    # create the empty string\n",
    "    string = []\n",
    "     \n",
    "    # split the string where space is comes\n",
    "    text = str.split(\" \")\n",
    "     \n",
    "    # iterate the loop till every substring\n",
    "    for x in text:\n",
    "         \n",
    "        # if length of current sub string\n",
    "        # is greater than k then\n",
    "        if len(x) == k:\n",
    "             \n",
    "            # append this sub string in\n",
    "            # string list\n",
    "            string.append(x)\n",
    "             \n",
    "     # return string list\n",
    "    return string\n",
    " \n",
    " \n",
    "# Driver Program    \n",
    "k = 5\n",
    "armor = (string_k(k, shields))"
   ]
  },
  {
   "cell_type": "code",
   "execution_count": 12,
   "id": "5ddae389",
   "metadata": {},
   "outputs": [],
   "source": [
    "shields = [blank.title() for blank in shields]\n",
    "shields = set(shields)\n",
    "new_shields = pd.DataFrame(shields)\n",
    "new_shields.columns = ['5 Letter Words']\n",
    "new_shields_list = new_shields\n",
    "new_shields_list = new_shields_list.sort_values(['5 Letter Words'])\n",
    "new_shields_list = new_shields_list.reset_index(drop=True)\n",
    "new_shields_list.to_csv('new_shields_list.csv', index=False)"
   ]
  }
 ],
 "metadata": {
  "kernelspec": {
   "display_name": "TensorFlow",
   "language": "python",
   "name": "tensorflow"
  },
  "language_info": {
   "codemirror_mode": {
    "name": "ipython",
    "version": 3
   },
   "file_extension": ".py",
   "mimetype": "text/x-python",
   "name": "python",
   "nbconvert_exporter": "python",
   "pygments_lexer": "ipython3",
   "version": "3.8.8"
  }
 },
 "nbformat": 4,
 "nbformat_minor": 5
}
